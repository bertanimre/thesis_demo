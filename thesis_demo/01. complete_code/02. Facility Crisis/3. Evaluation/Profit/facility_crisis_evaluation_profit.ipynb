{
 "cells": [
  {
   "cell_type": "markdown",
   "id": "89cebafc",
   "metadata": {},
   "source": [
    "# Imports"
   ]
  },
  {
   "cell_type": "code",
   "execution_count": 1,
   "id": "33642bab",
   "metadata": {},
   "outputs": [],
   "source": [
    "import numpy as np\n",
    "import pandas as pd\n",
    "\n",
    "from scipy.stats import normaltest\n",
    "from scipy.stats import kruskal"
   ]
  },
  {
   "cell_type": "markdown",
   "id": "a05f888f",
   "metadata": {},
   "source": [
    "# -----------------------------------------------------------------------------------------------------------------"
   ]
  },
  {
   "cell_type": "markdown",
   "id": "d0e3c466",
   "metadata": {},
   "source": [
    "# Data"
   ]
  },
  {
   "cell_type": "code",
   "execution_count": 2,
   "id": "4b19c92e",
   "metadata": {},
   "outputs": [],
   "source": [
    "ppo_data = np.loadtxt(\"all_rewards_PPO_005.txt\")\n",
    "ppo_data = ppo_data.flatten()"
   ]
  },
  {
   "cell_type": "code",
   "execution_count": 3,
   "id": "970b9769",
   "metadata": {},
   "outputs": [],
   "source": [
    "td3_data = np.loadtxt(\"all_rewards_TD3_005.txt\")\n",
    "td3_data = td3_data.flatten()"
   ]
  },
  {
   "cell_type": "code",
   "execution_count": 4,
   "id": "7c5e094d",
   "metadata": {},
   "outputs": [],
   "source": [
    "sac_data = np.loadtxt(\"all_rewards_SAC_005.txt\")\n",
    "sac_data = sac_data.flatten()"
   ]
  },
  {
   "cell_type": "markdown",
   "id": "1fd2e621",
   "metadata": {},
   "source": [
    "# -----------------------------------------------------------------------------------------------------------------"
   ]
  },
  {
   "cell_type": "markdown",
   "id": "f3ff9d4e",
   "metadata": {},
   "source": [
    "# Normality Test"
   ]
  },
  {
   "cell_type": "code",
   "execution_count": 5,
   "id": "97c47097",
   "metadata": {},
   "outputs": [
    {
     "name": "stdout",
     "output_type": "stream",
     "text": [
      "p = 3.2375e-21\n",
      "The null hypothesis can be rejected\n"
     ]
    }
   ],
   "source": [
    "k2, p = normaltest(ppo_data)\n",
    "alpha = 1e-3\n",
    "print(\"p = {:g}\".format(p))\n",
    "if p < alpha:  # null hypothesis: ppo_data comes from a normal distribution\n",
    "    print(\"The null hypothesis can be rejected\")\n",
    "else:\n",
    "    print(\"The null hypothesis cannot be rejected\")"
   ]
  },
  {
   "cell_type": "code",
   "execution_count": 6,
   "id": "5fac283c",
   "metadata": {},
   "outputs": [
    {
     "name": "stdout",
     "output_type": "stream",
     "text": [
      "p = 2.51535e-61\n",
      "The null hypothesis can be rejected\n"
     ]
    }
   ],
   "source": [
    "k2, p = normaltest(td3_data)\n",
    "alpha = 1e-3\n",
    "print(\"p = {:g}\".format(p))\n",
    "if p < alpha:  # null hypothesis: td3_data comes from a normal distribution\n",
    "    print(\"The null hypothesis can be rejected\")\n",
    "else:\n",
    "    print(\"The null hypothesis cannot be rejected\")"
   ]
  },
  {
   "cell_type": "code",
   "execution_count": 7,
   "id": "8c62059f",
   "metadata": {},
   "outputs": [
    {
     "name": "stdout",
     "output_type": "stream",
     "text": [
      "p = 1.01781e-19\n",
      "The null hypothesis can be rejected\n"
     ]
    }
   ],
   "source": [
    "k2, p = normaltest(sac_data)\n",
    "alpha = 1e-3\n",
    "print(\"p = {:g}\".format(p))\n",
    "if p < alpha:  # null hypothesis: sac_data comes from a normal distribution\n",
    "    print(\"The null hypothesis can be rejected\")\n",
    "else:\n",
    "    print(\"The null hypothesis cannot be rejected\")"
   ]
  },
  {
   "cell_type": "markdown",
   "id": "870904e9",
   "metadata": {},
   "source": [
    "# -----------------------------------------------------------------------------------------------------------------"
   ]
  },
  {
   "cell_type": "markdown",
   "id": "828149e6",
   "metadata": {},
   "source": [
    "# Nonparametric Statistical Hypothesis Test"
   ]
  },
  {
   "cell_type": "code",
   "execution_count": 8,
   "id": "ee0c750f",
   "metadata": {},
   "outputs": [
    {
     "name": "stdout",
     "output_type": "stream",
     "text": [
      "stat=7782.882, p=0.000\n",
      "Probably different distributions\n"
     ]
    }
   ],
   "source": [
    "stat, p = kruskal(ppo_data, td3_data, sac_data)\n",
    "print('stat=%.3f, p=%.3f' % (stat, p))\n",
    "if p > 0.05:\n",
    "    print('Probably the same distribution')\n",
    "else:\n",
    "    print('Probably different distributions')"
   ]
  },
  {
   "cell_type": "markdown",
   "id": "76051d72",
   "metadata": {},
   "source": [
    "# -----------------------------------------------------------------------------------------------------------------"
   ]
  },
  {
   "cell_type": "markdown",
   "id": "9acd18b8",
   "metadata": {},
   "source": [
    "# Data Presentation"
   ]
  },
  {
   "cell_type": "code",
   "execution_count": 9,
   "id": "8a2708cd",
   "metadata": {},
   "outputs": [
    {
     "data": {
      "text/plain": [
       "1416.560258"
      ]
     },
     "execution_count": 9,
     "metadata": {},
     "output_type": "execute_result"
    }
   ],
   "source": [
    "ppo_data.mean()"
   ]
  },
  {
   "cell_type": "code",
   "execution_count": 10,
   "id": "a01c4a1f",
   "metadata": {},
   "outputs": [
    {
     "data": {
      "text/plain": [
       "44.66321045512478"
      ]
     },
     "execution_count": 10,
     "metadata": {},
     "output_type": "execute_result"
    }
   ],
   "source": [
    "ppo_data.std()"
   ]
  },
  {
   "cell_type": "code",
   "execution_count": 11,
   "id": "6aa8d85d",
   "metadata": {},
   "outputs": [
    {
     "data": {
      "text/plain": [
       "672.74452"
      ]
     },
     "execution_count": 11,
     "metadata": {},
     "output_type": "execute_result"
    }
   ],
   "source": [
    "td3_data.mean()"
   ]
  },
  {
   "cell_type": "code",
   "execution_count": 12,
   "id": "c4d5c3cb",
   "metadata": {},
   "outputs": [
    {
     "data": {
      "text/plain": [
       "321.2718433725707"
      ]
     },
     "execution_count": 12,
     "metadata": {},
     "output_type": "execute_result"
    }
   ],
   "source": [
    "td3_data.std()"
   ]
  },
  {
   "cell_type": "code",
   "execution_count": 13,
   "id": "311fb5bf",
   "metadata": {},
   "outputs": [
    {
     "data": {
      "text/plain": [
       "1618.9886316666668"
      ]
     },
     "execution_count": 13,
     "metadata": {},
     "output_type": "execute_result"
    }
   ],
   "source": [
    "sac_data.mean()"
   ]
  },
  {
   "cell_type": "code",
   "execution_count": 14,
   "id": "7d347678",
   "metadata": {},
   "outputs": [
    {
     "data": {
      "text/plain": [
       "51.49893821887981"
      ]
     },
     "execution_count": 14,
     "metadata": {},
     "output_type": "execute_result"
    }
   ],
   "source": [
    "sac_data.std()"
   ]
  }
 ],
 "metadata": {
  "kernelspec": {
   "display_name": "Python 3 (ipykernel)",
   "language": "python",
   "name": "python3"
  },
  "language_info": {
   "codemirror_mode": {
    "name": "ipython",
    "version": 3
   },
   "file_extension": ".py",
   "mimetype": "text/x-python",
   "name": "python",
   "nbconvert_exporter": "python",
   "pygments_lexer": "ipython3",
   "version": "3.9.12"
  }
 },
 "nbformat": 4,
 "nbformat_minor": 5
}
