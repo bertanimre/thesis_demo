{
 "cells": [
  {
   "cell_type": "markdown",
   "id": "05cd6f19",
   "metadata": {},
   "source": [
    "# Imports"
   ]
  },
  {
   "cell_type": "code",
   "execution_count": 1,
   "id": "02513e82",
   "metadata": {},
   "outputs": [],
   "source": [
    "import numpy as np\n",
    "import pandas as pd\n",
    "\n",
    "from scipy.stats import normaltest\n",
    "from scipy.stats import kruskal"
   ]
  },
  {
   "cell_type": "markdown",
   "id": "818ea311",
   "metadata": {},
   "source": [
    "# -----------------------------------------------------------------------------------------------------------------"
   ]
  },
  {
   "cell_type": "markdown",
   "id": "95b9372b",
   "metadata": {},
   "source": [
    "# Data"
   ]
  },
  {
   "cell_type": "code",
   "execution_count": 2,
   "id": "dfbdd8e4",
   "metadata": {},
   "outputs": [],
   "source": [
    "demand = np.loadtxt(\"all_demand_retailers_005.txt\")\n",
    "demand = demand.flatten()"
   ]
  },
  {
   "cell_type": "code",
   "execution_count": 3,
   "id": "6cfe861c",
   "metadata": {},
   "outputs": [],
   "source": [
    "ppo_unsatisfied = np.loadtxt(\"all_unfulfilled_demand_PPO_005.txt\")\n",
    "ppo_unsatisfied = ppo_unsatisfied.flatten()"
   ]
  },
  {
   "cell_type": "code",
   "execution_count": 4,
   "id": "09e5551b",
   "metadata": {},
   "outputs": [],
   "source": [
    "td3_unsatisfied = np.loadtxt(\"all_unfulfilled_demand_TD3_005.txt\")\n",
    "td3_unsatisfied = td3_unsatisfied.flatten()"
   ]
  },
  {
   "cell_type": "code",
   "execution_count": 5,
   "id": "8eff8a0b",
   "metadata": {},
   "outputs": [],
   "source": [
    "sac_unsatisfied = np.loadtxt(\"all_unfulfilled_demand_SAC_005.txt\")\n",
    "sac_unsatisfied = sac_unsatisfied.flatten()"
   ]
  },
  {
   "cell_type": "code",
   "execution_count": 6,
   "id": "aa0b7e01",
   "metadata": {},
   "outputs": [],
   "source": [
    "ppo_data = ppo_unsatisfied / demand * 100"
   ]
  },
  {
   "cell_type": "code",
   "execution_count": 7,
   "id": "2be20b11",
   "metadata": {},
   "outputs": [],
   "source": [
    "td3_data = td3_unsatisfied / demand * 100"
   ]
  },
  {
   "cell_type": "code",
   "execution_count": 8,
   "id": "c4a03c2a",
   "metadata": {},
   "outputs": [],
   "source": [
    "sac_data = sac_unsatisfied / demand * 100"
   ]
  },
  {
   "cell_type": "markdown",
   "id": "326ad768",
   "metadata": {},
   "source": [
    "# -----------------------------------------------------------------------------------------------------------------"
   ]
  },
  {
   "cell_type": "markdown",
   "id": "b0965fec",
   "metadata": {},
   "source": [
    "# Normality Test"
   ]
  },
  {
   "cell_type": "code",
   "execution_count": 9,
   "id": "eb224466",
   "metadata": {},
   "outputs": [
    {
     "name": "stdout",
     "output_type": "stream",
     "text": [
      "p = 0\n",
      "The null hypothesis can be rejected\n"
     ]
    }
   ],
   "source": [
    "k2, p = normaltest(ppo_data)\n",
    "alpha = 1e-3\n",
    "print(\"p = {:g}\".format(p))\n",
    "if p < alpha:  # null hypothesis: ppo_data comes from a normal distribution\n",
    "    print(\"The null hypothesis can be rejected\")\n",
    "else:\n",
    "    print(\"The null hypothesis cannot be rejected\")"
   ]
  },
  {
   "cell_type": "code",
   "execution_count": 10,
   "id": "5aa6f77a",
   "metadata": {},
   "outputs": [
    {
     "name": "stdout",
     "output_type": "stream",
     "text": [
      "p = 0\n",
      "The null hypothesis can be rejected\n"
     ]
    }
   ],
   "source": [
    "k2, p = normaltest(td3_data)\n",
    "alpha = 1e-3\n",
    "print(\"p = {:g}\".format(p))\n",
    "if p < alpha:  # null hypothesis: td3_data comes from a normal distribution\n",
    "    print(\"The null hypothesis can be rejected\")\n",
    "else:\n",
    "    print(\"The null hypothesis cannot be rejected\")"
   ]
  },
  {
   "cell_type": "code",
   "execution_count": 11,
   "id": "cf1b14eb",
   "metadata": {},
   "outputs": [
    {
     "name": "stdout",
     "output_type": "stream",
     "text": [
      "p = 0\n",
      "The null hypothesis can be rejected\n"
     ]
    }
   ],
   "source": [
    "k2, p = normaltest(sac_data)\n",
    "alpha = 1e-3\n",
    "print(\"p = {:g}\".format(p))\n",
    "if p < alpha:  # null hypothesis: sac_data comes from a normal distribution\n",
    "    print(\"The null hypothesis can be rejected\")\n",
    "else:\n",
    "    print(\"The null hypothesis cannot be rejected\")"
   ]
  },
  {
   "cell_type": "markdown",
   "id": "ce6e7cb6",
   "metadata": {},
   "source": [
    "# -----------------------------------------------------------------------------------------------------------------"
   ]
  },
  {
   "cell_type": "markdown",
   "id": "c5c32014",
   "metadata": {},
   "source": [
    "# Nonparametric Statistical Hypothesis Test"
   ]
  },
  {
   "cell_type": "code",
   "execution_count": 12,
   "id": "9dc93147",
   "metadata": {},
   "outputs": [
    {
     "name": "stdout",
     "output_type": "stream",
     "text": [
      "stat=12850.231, p=0.000\n",
      "Probably different distributions\n"
     ]
    }
   ],
   "source": [
    "stat, p = kruskal(ppo_data, td3_data, sac_data)\n",
    "print('stat=%.3f, p=%.3f' % (stat, p))\n",
    "if p > 0.05:\n",
    "    print('Probably the same distribution')\n",
    "else:\n",
    "    print('Probably different distributions')"
   ]
  },
  {
   "cell_type": "markdown",
   "id": "361ccdcd",
   "metadata": {},
   "source": [
    "# -----------------------------------------------------------------------------------------------------------------"
   ]
  },
  {
   "cell_type": "markdown",
   "id": "5dac6682",
   "metadata": {},
   "source": [
    "# Mann-Whitney U Test"
   ]
  },
  {
   "cell_type": "code",
   "execution_count": 13,
   "id": "a4a05fed",
   "metadata": {},
   "outputs": [],
   "source": [
    "from scipy.stats import mannwhitneyu"
   ]
  },
  {
   "cell_type": "code",
   "execution_count": 19,
   "id": "2fca3025",
   "metadata": {},
   "outputs": [
    {
     "name": "stdout",
     "output_type": "stream",
     "text": [
      "stat=44746060215.000, p=0.000\n",
      "Probably different distributions\n"
     ]
    }
   ],
   "source": [
    "stat, p = mannwhitneyu(ppo_data, td3_data)\n",
    "print('stat=%.3f, p=%.3f' % (stat, p))\n",
    "if p > 0.05:\n",
    "    print('Probably the same distribution')\n",
    "else:\n",
    "    print('Probably different distributions')"
   ]
  },
  {
   "cell_type": "markdown",
   "id": "25ac1b8c",
   "metadata": {},
   "source": [
    "# -----------------------------------------------------------------------------------------------------------------"
   ]
  },
  {
   "cell_type": "markdown",
   "id": "7e950677",
   "metadata": {},
   "source": [
    "# Data Presentation"
   ]
  },
  {
   "cell_type": "code",
   "execution_count": 15,
   "id": "839ea95f",
   "metadata": {},
   "outputs": [
    {
     "data": {
      "text/plain": [
       "63.279282201769156"
      ]
     },
     "execution_count": 15,
     "metadata": {},
     "output_type": "execute_result"
    }
   ],
   "source": [
    "100 - ppo_data.mean()"
   ]
  },
  {
   "cell_type": "code",
   "execution_count": 16,
   "id": "f8b3cf07",
   "metadata": {},
   "outputs": [
    {
     "data": {
      "text/plain": [
       "61.33736259564494"
      ]
     },
     "execution_count": 16,
     "metadata": {},
     "output_type": "execute_result"
    }
   ],
   "source": [
    "100 - td3_data.mean()"
   ]
  },
  {
   "cell_type": "code",
   "execution_count": 17,
   "id": "5171327e",
   "metadata": {},
   "outputs": [
    {
     "data": {
      "text/plain": [
       "55.87783160913985"
      ]
     },
     "execution_count": 17,
     "metadata": {},
     "output_type": "execute_result"
    }
   ],
   "source": [
    "100 - sac_data.mean()"
   ]
  },
  {
   "cell_type": "code",
   "execution_count": null,
   "id": "90e91bd0",
   "metadata": {},
   "outputs": [],
   "source": []
  }
 ],
 "metadata": {
  "kernelspec": {
   "display_name": "Python 3 (ipykernel)",
   "language": "python",
   "name": "python3"
  },
  "language_info": {
   "codemirror_mode": {
    "name": "ipython",
    "version": 3
   },
   "file_extension": ".py",
   "mimetype": "text/x-python",
   "name": "python",
   "nbconvert_exporter": "python",
   "pygments_lexer": "ipython3",
   "version": "3.9.12"
  }
 },
 "nbformat": 4,
 "nbformat_minor": 5
}
